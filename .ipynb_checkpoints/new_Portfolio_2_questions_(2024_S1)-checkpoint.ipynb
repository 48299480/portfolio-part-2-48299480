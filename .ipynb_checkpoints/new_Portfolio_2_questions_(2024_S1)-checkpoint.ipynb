{
 "cells": [
  {
   "cell_type": "markdown",
   "id": "Z88FfJc9lA_T",
   "metadata": {
    "id": "Z88FfJc9lA_T"
   },
   "source": [
    "## Analysis of an E-commerce Dataset Part 2"
   ]
  },
  {
   "cell_type": "markdown",
   "id": "hoq0NwA9lA_V",
   "metadata": {
    "id": "hoq0NwA9lA_V"
   },
   "source": [
    "The goal of the second analysis task is to train linear regression models to predict users' ratings towards items. This involves a standard Data Science workflow: exploring data, building models, making predictions, and evaluating results. In this task, we will explore the impacts of feature selections and different sizes of training/testing data on the model performance. We will use another cleaned combined e-commerce sub-dataset that **is different from** the one in “Analysis of an E-commerce Dataset” task 1."
   ]
  },
  {
   "cell_type": "markdown",
   "id": "f9fd3NU_lA_W",
   "metadata": {
    "id": "f9fd3NU_lA_W"
   },
   "source": [
    "### Import Cleaned E-commerce Dataset\n",
    "The csv file named 'cleaned_ecommerce_dataset.csv' is provided. You may need to use the Pandas method, i.e., `read_csv`, for reading it. After that, please print out its total length."
   ]
  },
  {
   "cell_type": "code",
   "execution_count": 8,
   "id": "PJrb2gtAlA_W",
   "metadata": {
    "id": "PJrb2gtAlA_W"
   },
   "outputs": [],
   "source": [
    "import pandas as pd\n",
    "import numpy as np\n",
    "from sklearn.model_selection import train_test_split\n",
    "from sklearn import linear_model\n",
    "from sklearn.metrics import r2_score\n",
    "\n",
    "import warnings\n",
    "warnings.filterwarnings(\"ignore\")\n",
    "\n",
    "import seaborn as sns\n",
    "import matplotlib.pylab as plt\n",
    "%matplotlib inline\n",
    "\n",
    "# write your code here\n",
    "df = pd.read_csv('cleaned_ecommerce_dataset.csv')"
   ]
  },
  {
   "cell_type": "code",
   "execution_count": 9,
   "id": "eff4e6cf",
   "metadata": {},
   "outputs": [
    {
     "name": "stdout",
     "output_type": "stream",
     "text": [
      "Length of Cleaned E-commerce Dataset: 2685\n"
     ]
    }
   ],
   "source": [
    "print(f\"Length of Cleaned E-commerce Dataset: {len(df)}\")"
   ]
  },
  {
   "cell_type": "markdown",
   "id": "aqbuU6rglA_X",
   "metadata": {
    "id": "aqbuU6rglA_X"
   },
   "source": [
    "### Explore the Dataset\n",
    "\n",
    "* Use the methods, i.e., `head()` and `info()`, to have a rough picture about the data, e.g., how many columns, and the data types of each column.\n",
    "* As our goal is to predict ratings given other columns, please get the correlations between helpfulness/gender/category/review and rating by using the `corr()` method.\n",
    "\n",
    "  Hints: To get the correlations between different features, you may need to first convert the categorical features (i.e., gender, category and review) into numerial values. For doing this, you may need to import `OrdinalEncoder` from `sklearn.preprocessing` (refer to the useful exmaples [here](https://pbpython.com/categorical-encoding.html))\n",
    "* Please provide ___necessary explanations/analysis___ on the correlations, and figure out which are the ___most___ and ___least___ corrleated features regarding rating. Try to ___discuss___ how the correlation will affect the final prediction results, if we use these features to train a regression model for rating prediction. In what follows, we will conduct experiments to verify your hypothesis."
   ]
  },
  {
   "cell_type": "code",
   "execution_count": 10,
   "id": "W3PImHiElA_X",
   "metadata": {
    "id": "W3PImHiElA_X"
   },
   "outputs": [
    {
     "data": {
      "text/html": [
       "<div>\n",
       "<style scoped>\n",
       "    .dataframe tbody tr th:only-of-type {\n",
       "        vertical-align: middle;\n",
       "    }\n",
       "\n",
       "    .dataframe tbody tr th {\n",
       "        vertical-align: top;\n",
       "    }\n",
       "\n",
       "    .dataframe thead th {\n",
       "        text-align: right;\n",
       "    }\n",
       "</style>\n",
       "<table border=\"1\" class=\"dataframe\">\n",
       "  <thead>\n",
       "    <tr style=\"text-align: right;\">\n",
       "      <th></th>\n",
       "      <th>userId</th>\n",
       "      <th>timestamp</th>\n",
       "      <th>review</th>\n",
       "      <th>item</th>\n",
       "      <th>rating</th>\n",
       "      <th>helpfulness</th>\n",
       "      <th>gender</th>\n",
       "      <th>category</th>\n",
       "      <th>item_id</th>\n",
       "      <th>item_price</th>\n",
       "      <th>user_city</th>\n",
       "    </tr>\n",
       "  </thead>\n",
       "  <tbody>\n",
       "    <tr>\n",
       "      <th>0</th>\n",
       "      <td>4081</td>\n",
       "      <td>71900</td>\n",
       "      <td>Not always McCrap</td>\n",
       "      <td>McDonald's</td>\n",
       "      <td>4.0</td>\n",
       "      <td>3.0</td>\n",
       "      <td>M</td>\n",
       "      <td>Restaurants &amp; Gourmet</td>\n",
       "      <td>41</td>\n",
       "      <td>30.74</td>\n",
       "      <td>4</td>\n",
       "    </tr>\n",
       "    <tr>\n",
       "      <th>1</th>\n",
       "      <td>4081</td>\n",
       "      <td>72000</td>\n",
       "      <td>I dropped the chalupa even before he told me to</td>\n",
       "      <td>Taco Bell</td>\n",
       "      <td>1.0</td>\n",
       "      <td>4.0</td>\n",
       "      <td>M</td>\n",
       "      <td>Restaurants &amp; Gourmet</td>\n",
       "      <td>74</td>\n",
       "      <td>108.30</td>\n",
       "      <td>4</td>\n",
       "    </tr>\n",
       "    <tr>\n",
       "      <th>2</th>\n",
       "      <td>4081</td>\n",
       "      <td>72000</td>\n",
       "      <td>The Wonderful World of Wendy</td>\n",
       "      <td>Wendy's</td>\n",
       "      <td>5.0</td>\n",
       "      <td>4.0</td>\n",
       "      <td>M</td>\n",
       "      <td>Restaurants &amp; Gourmet</td>\n",
       "      <td>84</td>\n",
       "      <td>69.00</td>\n",
       "      <td>4</td>\n",
       "    </tr>\n",
       "    <tr>\n",
       "      <th>3</th>\n",
       "      <td>4081</td>\n",
       "      <td>100399</td>\n",
       "      <td>They actually did it</td>\n",
       "      <td>South Park: Bigger, Longer &amp; Uncut</td>\n",
       "      <td>5.0</td>\n",
       "      <td>3.0</td>\n",
       "      <td>M</td>\n",
       "      <td>Movies</td>\n",
       "      <td>68</td>\n",
       "      <td>143.11</td>\n",
       "      <td>4</td>\n",
       "    </tr>\n",
       "    <tr>\n",
       "      <th>4</th>\n",
       "      <td>4081</td>\n",
       "      <td>100399</td>\n",
       "      <td>Hey! Gimme some pie!</td>\n",
       "      <td>American Pie</td>\n",
       "      <td>3.0</td>\n",
       "      <td>3.0</td>\n",
       "      <td>M</td>\n",
       "      <td>Movies</td>\n",
       "      <td>6</td>\n",
       "      <td>117.89</td>\n",
       "      <td>4</td>\n",
       "    </tr>\n",
       "  </tbody>\n",
       "</table>\n",
       "</div>"
      ],
      "text/plain": [
       "   userId  timestamp                                           review  \\\n",
       "0    4081      71900                                Not always McCrap   \n",
       "1    4081      72000  I dropped the chalupa even before he told me to   \n",
       "2    4081      72000                     The Wonderful World of Wendy   \n",
       "3    4081     100399                             They actually did it   \n",
       "4    4081     100399                             Hey! Gimme some pie!   \n",
       "\n",
       "                                 item  rating  helpfulness gender  \\\n",
       "0                          McDonald's     4.0          3.0      M   \n",
       "1                           Taco Bell     1.0          4.0      M   \n",
       "2                             Wendy's     5.0          4.0      M   \n",
       "3  South Park: Bigger, Longer & Uncut     5.0          3.0      M   \n",
       "4                        American Pie     3.0          3.0      M   \n",
       "\n",
       "                category  item_id  item_price  user_city  \n",
       "0  Restaurants & Gourmet       41       30.74          4  \n",
       "1  Restaurants & Gourmet       74      108.30          4  \n",
       "2  Restaurants & Gourmet       84       69.00          4  \n",
       "3                 Movies       68      143.11          4  \n",
       "4                 Movies        6      117.89          4  "
      ]
     },
     "execution_count": 10,
     "metadata": {},
     "output_type": "execute_result"
    }
   ],
   "source": [
    "df.head()"
   ]
  },
  {
   "cell_type": "code",
   "execution_count": 11,
   "id": "d5e52a76",
   "metadata": {},
   "outputs": [
    {
     "name": "stdout",
     "output_type": "stream",
     "text": [
      "<class 'pandas.core.frame.DataFrame'>\n",
      "RangeIndex: 2685 entries, 0 to 2684\n",
      "Data columns (total 11 columns):\n",
      " #   Column       Non-Null Count  Dtype  \n",
      "---  ------       --------------  -----  \n",
      " 0   userId       2685 non-null   int64  \n",
      " 1   timestamp    2685 non-null   int64  \n",
      " 2   review       2685 non-null   object \n",
      " 3   item         2685 non-null   object \n",
      " 4   rating       2685 non-null   float64\n",
      " 5   helpfulness  2685 non-null   float64\n",
      " 6   gender       2685 non-null   object \n",
      " 7   category     2685 non-null   object \n",
      " 8   item_id      2685 non-null   int64  \n",
      " 9   item_price   2685 non-null   float64\n",
      " 10  user_city    2685 non-null   int64  \n",
      "dtypes: float64(3), int64(4), object(4)\n",
      "memory usage: 230.9+ KB\n"
     ]
    }
   ],
   "source": [
    "df.info()"
   ]
  },
  {
   "cell_type": "code",
   "execution_count": 37,
   "id": "313b8bf5",
   "metadata": {},
   "outputs": [],
   "source": [
    "from sklearn.preprocessing import OrdinalEncoder\n",
    "\n",
    "ord_enc = OrdinalEncoder()\n",
    "df[\"gender_coder\"] = ord_enc.fit_transform(df[[\"gender\"]])\n",
    "df[\"category_coder\"] = ord_enc.fit_transform(df[[\"category\"]])\n",
    "df[\"review_coder\"] = ord_enc.fit_transform(df[[\"review\"]])"
   ]
  },
  {
   "cell_type": "code",
   "execution_count": 13,
   "id": "27704234",
   "metadata": {},
   "outputs": [
    {
     "data": {
      "text/html": [
       "<div>\n",
       "<style scoped>\n",
       "    .dataframe tbody tr th:only-of-type {\n",
       "        vertical-align: middle;\n",
       "    }\n",
       "\n",
       "    .dataframe tbody tr th {\n",
       "        vertical-align: top;\n",
       "    }\n",
       "\n",
       "    .dataframe thead th {\n",
       "        text-align: right;\n",
       "    }\n",
       "</style>\n",
       "<table border=\"1\" class=\"dataframe\">\n",
       "  <thead>\n",
       "    <tr style=\"text-align: right;\">\n",
       "      <th></th>\n",
       "      <th>userId</th>\n",
       "      <th>timestamp</th>\n",
       "      <th>review</th>\n",
       "      <th>item</th>\n",
       "      <th>rating</th>\n",
       "      <th>helpfulness</th>\n",
       "      <th>gender</th>\n",
       "      <th>category</th>\n",
       "      <th>item_id</th>\n",
       "      <th>item_price</th>\n",
       "      <th>user_city</th>\n",
       "      <th>gender_code</th>\n",
       "      <th>category_code</th>\n",
       "      <th>review_code</th>\n",
       "    </tr>\n",
       "  </thead>\n",
       "  <tbody>\n",
       "    <tr>\n",
       "      <th>0</th>\n",
       "      <td>4081</td>\n",
       "      <td>71900</td>\n",
       "      <td>Not always McCrap</td>\n",
       "      <td>McDonald's</td>\n",
       "      <td>4.0</td>\n",
       "      <td>3.0</td>\n",
       "      <td>M</td>\n",
       "      <td>Restaurants &amp; Gourmet</td>\n",
       "      <td>41</td>\n",
       "      <td>30.74</td>\n",
       "      <td>4</td>\n",
       "      <td>1.0</td>\n",
       "      <td>8.0</td>\n",
       "      <td>1618.0</td>\n",
       "    </tr>\n",
       "    <tr>\n",
       "      <th>1</th>\n",
       "      <td>4081</td>\n",
       "      <td>72000</td>\n",
       "      <td>I dropped the chalupa even before he told me to</td>\n",
       "      <td>Taco Bell</td>\n",
       "      <td>1.0</td>\n",
       "      <td>4.0</td>\n",
       "      <td>M</td>\n",
       "      <td>Restaurants &amp; Gourmet</td>\n",
       "      <td>74</td>\n",
       "      <td>108.30</td>\n",
       "      <td>4</td>\n",
       "      <td>1.0</td>\n",
       "      <td>8.0</td>\n",
       "      <td>1125.0</td>\n",
       "    </tr>\n",
       "    <tr>\n",
       "      <th>2</th>\n",
       "      <td>4081</td>\n",
       "      <td>72000</td>\n",
       "      <td>The Wonderful World of Wendy</td>\n",
       "      <td>Wendy's</td>\n",
       "      <td>5.0</td>\n",
       "      <td>4.0</td>\n",
       "      <td>M</td>\n",
       "      <td>Restaurants &amp; Gourmet</td>\n",
       "      <td>84</td>\n",
       "      <td>69.00</td>\n",
       "      <td>4</td>\n",
       "      <td>1.0</td>\n",
       "      <td>8.0</td>\n",
       "      <td>2185.0</td>\n",
       "    </tr>\n",
       "    <tr>\n",
       "      <th>3</th>\n",
       "      <td>4081</td>\n",
       "      <td>100399</td>\n",
       "      <td>They actually did it</td>\n",
       "      <td>South Park: Bigger, Longer &amp; Uncut</td>\n",
       "      <td>5.0</td>\n",
       "      <td>3.0</td>\n",
       "      <td>M</td>\n",
       "      <td>Movies</td>\n",
       "      <td>68</td>\n",
       "      <td>143.11</td>\n",
       "      <td>4</td>\n",
       "      <td>1.0</td>\n",
       "      <td>5.0</td>\n",
       "      <td>2243.0</td>\n",
       "    </tr>\n",
       "    <tr>\n",
       "      <th>4</th>\n",
       "      <td>4081</td>\n",
       "      <td>100399</td>\n",
       "      <td>Hey! Gimme some pie!</td>\n",
       "      <td>American Pie</td>\n",
       "      <td>3.0</td>\n",
       "      <td>3.0</td>\n",
       "      <td>M</td>\n",
       "      <td>Movies</td>\n",
       "      <td>6</td>\n",
       "      <td>117.89</td>\n",
       "      <td>4</td>\n",
       "      <td>1.0</td>\n",
       "      <td>5.0</td>\n",
       "      <td>1033.0</td>\n",
       "    </tr>\n",
       "  </tbody>\n",
       "</table>\n",
       "</div>"
      ],
      "text/plain": [
       "   userId  timestamp                                           review  \\\n",
       "0    4081      71900                                Not always McCrap   \n",
       "1    4081      72000  I dropped the chalupa even before he told me to   \n",
       "2    4081      72000                     The Wonderful World of Wendy   \n",
       "3    4081     100399                             They actually did it   \n",
       "4    4081     100399                             Hey! Gimme some pie!   \n",
       "\n",
       "                                 item  rating  helpfulness gender  \\\n",
       "0                          McDonald's     4.0          3.0      M   \n",
       "1                           Taco Bell     1.0          4.0      M   \n",
       "2                             Wendy's     5.0          4.0      M   \n",
       "3  South Park: Bigger, Longer & Uncut     5.0          3.0      M   \n",
       "4                        American Pie     3.0          3.0      M   \n",
       "\n",
       "                category  item_id  item_price  user_city  gender_code  \\\n",
       "0  Restaurants & Gourmet       41       30.74          4          1.0   \n",
       "1  Restaurants & Gourmet       74      108.30          4          1.0   \n",
       "2  Restaurants & Gourmet       84       69.00          4          1.0   \n",
       "3                 Movies       68      143.11          4          1.0   \n",
       "4                 Movies        6      117.89          4          1.0   \n",
       "\n",
       "   category_code  review_code  \n",
       "0            8.0       1618.0  \n",
       "1            8.0       1125.0  \n",
       "2            8.0       2185.0  \n",
       "3            5.0       2243.0  \n",
       "4            5.0       1033.0  "
      ]
     },
     "execution_count": 13,
     "metadata": {},
     "output_type": "execute_result"
    }
   ],
   "source": [
    "df.head(5)"
   ]
  },
  {
   "cell_type": "code",
   "execution_count": 18,
   "id": "a383a3fd",
   "metadata": {},
   "outputs": [
    {
     "name": "stdout",
     "output_type": "stream",
     "text": [
      "<class 'pandas.core.frame.DataFrame'>\n",
      "RangeIndex: 2685 entries, 0 to 2684\n",
      "Data columns (total 14 columns):\n",
      " #   Column         Non-Null Count  Dtype  \n",
      "---  ------         --------------  -----  \n",
      " 0   userId         2685 non-null   int64  \n",
      " 1   timestamp      2685 non-null   int64  \n",
      " 2   review         2685 non-null   object \n",
      " 3   item           2685 non-null   object \n",
      " 4   rating         2685 non-null   float64\n",
      " 5   helpfulness    2685 non-null   float64\n",
      " 6   gender         2685 non-null   object \n",
      " 7   category       2685 non-null   object \n",
      " 8   item_id        2685 non-null   int64  \n",
      " 9   item_price     2685 non-null   float64\n",
      " 10  user_city      2685 non-null   int64  \n",
      " 11  gender_code    2685 non-null   float64\n",
      " 12  category_code  2685 non-null   float64\n",
      " 13  review_code    2685 non-null   float64\n",
      "dtypes: float64(6), int64(4), object(4)\n",
      "memory usage: 293.8+ KB\n"
     ]
    }
   ],
   "source": [
    "df.info()"
   ]
  },
  {
   "cell_type": "code",
   "execution_count": 38,
   "id": "57c2cabd",
   "metadata": {},
   "outputs": [
    {
     "data": {
      "text/html": [
       "<div>\n",
       "<style scoped>\n",
       "    .dataframe tbody tr th:only-of-type {\n",
       "        vertical-align: middle;\n",
       "    }\n",
       "\n",
       "    .dataframe tbody tr th {\n",
       "        vertical-align: top;\n",
       "    }\n",
       "\n",
       "    .dataframe thead th {\n",
       "        text-align: right;\n",
       "    }\n",
       "</style>\n",
       "<table border=\"1\" class=\"dataframe\">\n",
       "  <thead>\n",
       "    <tr style=\"text-align: right;\">\n",
       "      <th></th>\n",
       "      <th>helpfulness</th>\n",
       "      <th>gender_coder</th>\n",
       "      <th>category_coder</th>\n",
       "      <th>review_coder</th>\n",
       "      <th>rating</th>\n",
       "    </tr>\n",
       "  </thead>\n",
       "  <tbody>\n",
       "    <tr>\n",
       "      <th>helpfulness</th>\n",
       "      <td>1.000000</td>\n",
       "      <td>0.075947</td>\n",
       "      <td>-0.013408</td>\n",
       "      <td>-0.028259</td>\n",
       "      <td>-0.007523</td>\n",
       "    </tr>\n",
       "    <tr>\n",
       "      <th>gender_coder</th>\n",
       "      <td>0.075947</td>\n",
       "      <td>1.000000</td>\n",
       "      <td>0.022549</td>\n",
       "      <td>-0.037884</td>\n",
       "      <td>-0.034337</td>\n",
       "    </tr>\n",
       "    <tr>\n",
       "      <th>category_coder</th>\n",
       "      <td>-0.013408</td>\n",
       "      <td>0.022549</td>\n",
       "      <td>1.000000</td>\n",
       "      <td>0.001970</td>\n",
       "      <td>-0.163158</td>\n",
       "    </tr>\n",
       "    <tr>\n",
       "      <th>review_coder</th>\n",
       "      <td>-0.028259</td>\n",
       "      <td>-0.037884</td>\n",
       "      <td>0.001970</td>\n",
       "      <td>1.000000</td>\n",
       "      <td>-0.036118</td>\n",
       "    </tr>\n",
       "    <tr>\n",
       "      <th>rating</th>\n",
       "      <td>-0.007523</td>\n",
       "      <td>-0.034337</td>\n",
       "      <td>-0.163158</td>\n",
       "      <td>-0.036118</td>\n",
       "      <td>1.000000</td>\n",
       "    </tr>\n",
       "  </tbody>\n",
       "</table>\n",
       "</div>"
      ],
      "text/plain": [
       "                helpfulness  gender_coder  category_coder  review_coder  \\\n",
       "helpfulness        1.000000      0.075947       -0.013408     -0.028259   \n",
       "gender_coder       0.075947      1.000000        0.022549     -0.037884   \n",
       "category_coder    -0.013408      0.022549        1.000000      0.001970   \n",
       "review_coder      -0.028259     -0.037884        0.001970      1.000000   \n",
       "rating            -0.007523     -0.034337       -0.163158     -0.036118   \n",
       "\n",
       "                  rating  \n",
       "helpfulness    -0.007523  \n",
       "gender_coder   -0.034337  \n",
       "category_coder -0.163158  \n",
       "review_coder   -0.036118  \n",
       "rating          1.000000  "
      ]
     },
     "execution_count": 38,
     "metadata": {},
     "output_type": "execute_result"
    }
   ],
   "source": [
    "df[['helpfulness','gender_coder','category_coder','review_coder','rating']].corr()"
   ]
  },
  {
   "cell_type": "markdown",
   "id": "bca667fe",
   "metadata": {},
   "source": [
    "# Correlation \n",
    "\n",
    "From the above matrix we can observe that the Two Most Correlated features or factors of a E-commerce product rating are its ___Category___ and ___Review___ as these both are closest correlation values to _-1_. On the other hand, the Two Least Correlated features or factors are its ___Helpfulness___ and ___Gender___."
   ]
  },
  {
   "cell_type": "markdown",
   "id": "4myP5igslA_Y",
   "metadata": {
    "id": "4myP5igslA_Y"
   },
   "source": [
    "### Split Training and Testing Data\n",
    "* Machine learning models are trained to help make predictions for the future. Normally, we need to randomly split the dataset into training and testing sets, where we use the training set to train the model, and then leverage the well-trained model to make predictions on the testing set.\n",
    "* To further investigate whether the size of the training/testing data affects the model performance, please random split the data into training and testing sets with different sizes:\n",
    "    * Case 1: training data containing 10% of the entire data;\n",
    "    * Case 2: training data containing 90% of the entire data.\n",
    "* Print the shape of training and testing sets in the two cases."
   ]
  },
  {
   "cell_type": "code",
   "execution_count": 40,
   "id": "9c9303a5",
   "metadata": {},
   "outputs": [
    {
     "name": "stdout",
     "output_type": "stream",
     "text": [
      "Case 1:\n",
      "Training Dataset Shape:(268, 17)\n",
      "Testing Dataset Shape:(2417, 17)\n",
      "\n",
      "Case 2:\n",
      "Training Dataset Shape:(2416, 17)\n",
      "Testing Dataset Shape:(269, 17)\n"
     ]
    }
   ],
   "source": [
    "train_10_c1, test_90_c1 = train_test_split(df, test_size=0.9, random_state=42)\n",
    "print(f\"Case 1:\\nTraining Dataset Shape:{train_10_c1.shape}\\nTesting Dataset Shape:{test_90_c1.shape}\")\n",
    "\n",
    "train_90_c2, test_10_c2 = train_test_split(df, test_size=0.1, random_state=42)\n",
    "print(f\"\\nCase 2:\\nTraining Dataset Shape:{train_90_c2.shape}\\nTesting Dataset Shape:{test_10_c2.shape}\")"
   ]
  },
  {
   "cell_type": "markdown",
   "id": "DjSsgT0BlA_Y",
   "metadata": {
    "id": "DjSsgT0BlA_Y"
   },
   "source": [
    "### Train Linear Regression Models with Feature Selection under Cases 1 & 2\n",
    "* When training a machine learning model for prediction, we may need to select the most important/correlated input features for more accurate results.\n",
    "* To investigate whether feature selection affects the model performance, please select two most correlated features and two least correlated features from helpfulness/gender/category/review regarding rating, respectively.\n",
    "* Train four linear regression models by following the conditions:\n",
    "    - (model-a) using the training/testing data in case 1 with two most correlated input features\n",
    "    - (model-b) using the training/testing data in case 1 with two least correlated input features\n",
    "    - (model-c) using the training/testing data in case 2 with two most correlated input features\n",
    "    - (model-d) using the training/testing data in case 2 with two least correlated input features\n",
    "* By doing this, we can verify the impacts of the size of traing/testing data on the model performance via comparing model-a and model-c (or model-b and model-d); meanwhile the impacts of feature selection can be validated via comparing model-a and model-b (or model-c and model-d).    "
   ]
  },
  {
   "cell_type": "code",
   "execution_count": 41,
   "id": "DASzPUATlA_Z",
   "metadata": {
    "id": "DASzPUATlA_Z"
   },
   "outputs": [
    {
     "name": "stdout",
     "output_type": "stream",
     "text": [
      "Linear Model (A)\n",
      "y = x * [-1.31822118e-01  1.21438182e-05] + 4.359413133316096\n",
      "Linear Model (B)\n",
      "y = x * [-0.14651872 -0.43196508] + 4.486090489958585\n",
      "Linear Model (C)\n",
      "y = x * [-1.24834474e-01 -7.58022504e-05] + 4.422698922082497\n",
      "Linear Model (D)\n",
      "y = x * [-0.01270512 -0.09973812] + 3.7977272408821294\n"
     ]
    }
   ],
   "source": [
    "reg_a = linear_model.LinearRegression()\n",
    "X_train_a = train_10_c1[['category_coder','review_coder']]\n",
    "y_train_a = train_10_c1['rating']\n",
    "\n",
    "X_test_a = test_90_c1[['category_coder','review_coder']]\n",
    "y_test_a = test_90_c1['rating']\n",
    "\n",
    "\n",
    "reg_a.fit(X_train_a, y_train_a)\n",
    "print(f\"Linear Model (A)\\ny = x * {reg_a.coef_} + {reg_a.intercept_}\")\n",
    "\n",
    "reg_b = linear_model.LinearRegression()\n",
    "X_train_b = train_10_c1[['helpfulness','gender_coder']]\n",
    "y_train_b = train_10_c1['rating']\n",
    "\n",
    "X_test_b = test_90_c1[['helpfulness','gender_coder']]\n",
    "y_test_b = test_90_c1['rating']\n",
    "\n",
    "\n",
    "reg_b.fit(X_train_b, y_train_b)\n",
    "print(f\"Linear Model (B)\\ny = x * {reg_b.coef_} + {reg_b.intercept_}\")\n",
    "\n",
    "\n",
    "\n",
    "reg_c = linear_model.LinearRegression()\n",
    "X_train_c = train_90_c2[['category_code','review_code']]\n",
    "y_train_c = train_90_c2['rating']\n",
    "\n",
    "X_test_c = test_10_c2[['category_code','review_code']]\n",
    "y_test_c = test_10_c2['rating']\n",
    "\n",
    "\n",
    "reg_c.fit(X_train_c, y_train_c)\n",
    "print(f\"Linear Model (C)\\ny = x * {reg_c.coef_} + {reg_c.intercept_}\")\n",
    "\n",
    "\n",
    "\n",
    "reg_d = linear_model.LinearRegression()\n",
    "X_train_d = train_90_c2[['helpfulness','gender_coder']]\n",
    "y_train_d = train_90_c2['rating']\n",
    "\n",
    "X_test_d = test_10_c2[['helpfulness','gender_coder']]\n",
    "y_test_d = test_10_c2['rating']\n",
    "\n",
    "\n",
    "reg_d.fit(X_train_d, y_train_d)\n",
    "print(f\"Linear Model (D)\\ny = x * {reg_d.coef_} + {reg_d.intercept_}\")"
   ]
  },
  {
   "cell_type": "markdown",
   "id": "KATSn7hYlA_Z",
   "metadata": {
    "id": "KATSn7hYlA_Z"
   },
   "source": [
    "### Evaluate Models\n",
    "* Evaluate the performance of the four models with two metrics, including MSE and Root MSE\n",
    "* Print the results of the four models regarding the two metrics"
   ]
  },
  {
   "cell_type": "code",
   "execution_count": 34,
   "id": "4fU8GPS9lA_Z",
   "metadata": {
    "id": "4fU8GPS9lA_Z"
   },
   "outputs": [
    {
     "name": "stdout",
     "output_type": "stream",
     "text": [
      "MODEL A:\n",
      "\n",
      "MSE: 1.776581354691434\n",
      "Root MSE: 1.3328845991650717\n",
      "MODEL B:\n",
      "\n",
      "MSE: 1.8605359903218894\n",
      "Root MSE: 1.3640146591301316\n",
      "MODEL C:\n",
      "\n",
      "MSE: 1.681992500504392\n",
      "Root MSE: 1.2969165356739007\n",
      "MODEL D:\n",
      "\n",
      "MSE: 1.7245375467700426\n",
      "Root MSE: 1.3132164889194937\n"
     ]
    }
   ],
   "source": [
    "predicted_a = reg_a.predict(X_test_a)\n",
    "mse_a = ((np.array(y_test_a)-predicted_a)**2).sum()/len(y_test_a)\n",
    "root_mse_a = np.sqrt(mse_a)\n",
    "print(\"MODEL A:\\n\")\n",
    "print(\"MSE:\", mse_a)\n",
    "print(\"Root MSE:\", root_mse_a)\n",
    "\n",
    "\n",
    "\n",
    "predicted_b = reg_b.predict(X_test_b)\n",
    "mse_b = ((np.array(y_test_b)-predicted_b)**2).sum()/len(y_test_b)\n",
    "root_mse_b = np.sqrt(mse_b)\n",
    "print(\"MODEL B:\\n\")\n",
    "print(\"MSE:\", mse_b)\n",
    "print(\"Root MSE:\", root_mse_b)\n",
    "\n",
    "\n",
    "\n",
    "predicted_c = reg_c.predict(X_test_c)\n",
    "mse_c = ((np.array(y_test_c)-predicted_c)**2).sum()/len(y_test_c)\n",
    "root_mse_c = np.sqrt(mse_c)\n",
    "print(\"MODEL C:\\n\")\n",
    "print(\"MSE:\", mse_c)\n",
    "print(\"Root MSE:\", root_mse_c)\n",
    "\n",
    "\n",
    "predicted_d = reg_d.predict(X_test_d)\n",
    "mse_d = ((np.array(y_test_d)-predicted_d)**2).sum()/len(y_test_d)\n",
    "root_mse_d = np.sqrt(mse_d)\n",
    "print(\"MODEL D:\\n\")\n",
    "print(\"MSE:\", mse_d)\n",
    "print(\"Root MSE:\", root_mse_d)\n"
   ]
  },
  {
   "cell_type": "markdown",
   "id": "Y9jx-eY6lA_a",
   "metadata": {
    "id": "Y9jx-eY6lA_a"
   },
   "source": [
    "### Visualize, Compare and Analyze the Results\n",
    "* Visulize the results, and perform ___insightful analysis___ on the obtained results. For better visualization, you may need to carefully set the scale for the y-axis.\n",
    "* Normally, the model trained with most correlated features and more training data will get better results. Do you obtain the similar observations? If not, please ___explain the possible reasons___."
   ]
  },
  {
   "cell_type": "code",
   "execution_count": 39,
   "id": "3TNAIGDilA_a",
   "metadata": {
    "id": "3TNAIGDilA_a"
   },
   "outputs": [
    {
     "data": {
      "image/png": "[encoded data removed]",
      "text/plain": [
       "<Figure size 640x480 with 1 Axes>"
      ]
     },
     "metadata": {},
     "output_type": "display_data"
    }
   ],
   "source": [
    "X = ['Model A','Model B','Model C','Model D'] \n",
    "Y = [root_mse_a,root_mse_b,root_mse_c,root_mse_d] \n",
    "\n",
    "X_axis = np.arange(len(X)) \n",
    "\n",
    "plt.bar(X_axis, Y, 0.5, label = 'Root MSE', color=\"yellow\")\n",
    "plt.ylim(1.25, 1.4)\n",
    "\n",
    "plt.xticks(X_axis, X)\n",
    "plt.xlabel(\"Models\") \n",
    "plt.ylabel(\"Root MSE\") \n",
    "plt.title(\"Comparing MSE values for different Models\") \n",
    "plt.legend() \n",
    "plt.show() "
   ]
  },
  {
   "cell_type": "code",
   "execution_count": 36,
   "id": "93bc0555",
   "metadata": {
    "scrolled": true
   },
   "outputs": [
    {
     "data": {
      "image/png": "[encoded data removed]",
      "text/plain": [
       "<Figure size 640x480 with 1 Axes>"
      ]
     },
     "metadata": {},
     "output_type": "display_data"
    }
   ],
   "source": [
    "X = ['Model A','Model B','Model C','Model D'] \n",
    "Y = [mse_a,mse_b,mse_c,mse_d] \n",
    "\n",
    "X_axis = np.arange(len(X)) \n",
    "\n",
    "plt.bar(X_axis, Y, 0.5, label = 'MSE')\n",
    "plt.ylim(1.5, 1.9)\n",
    "\n",
    "plt.xticks(X_axis, X)\n",
    "plt.xlabel(\"Models\") \n",
    "plt.ylabel(\"MSE\") \n",
    "plt.title(\"Comparing MSE values for different Models\") \n",
    "plt.legend() \n",
    "plt.show() "
   ]
  },
  {
   "cell_type": "markdown",
   "id": "f9ee01ac",
   "metadata": {
    "id": "f9ee01ac"
   },
   "source": [
    "### Data Science Ethics\n",
    "*Please read the following examples [Click here to read the example_1.](https://www.vox.com/covid-19-coronavirus-us-response-trump/2020/5/18/21262265/georgia-covid-19-cases-declining-reopening) [Click here to read the example_2.](https://viborc.com/ethics-and-ethical-data-visualization-a-complete-guide/)\n",
    "\n",
    "*Then view the picture ![My Image](figure_portfolio2.png \"This is my image\")\n",
    "Please compose an analysis of 100-200 words that evaluates potential ethical concerns associated with the infographic, detailing the reasons behind these issues.\n"
   ]
  },
  {
   "cell_type": "raw",
   "id": "f9b3dde5",
   "metadata": {
    "id": "44f30e9b"
   },
   "source": [
    "The infographic presents the medal count from the 2008 Summer Olympics sorted by total medals in Table 1 and sorted by gold medals in Table 2. This dual presentation raises ethical concerns, primarily about the representation of data and the influence on perception.Firstly, the tables may lead to different interpretations of success. Table 1 suggests the United States as the leading nation due to the total medal count, whereas Table 2 places China at the top because of their gold medals. This discrepancy can mislead viewers depending on which metric they value more.Additionally, the order of countries differs between the tables, which can affect national pride and perceptions of athletic success. It raises questions about what the criteria should be for ranking Olympic success, which is inherently a value-laden decision.\n",
    "There's also the issue of data visualization ethics. The choice of colors and ordering can influence viewer focus and interpretation. For example, countries with more vibrant flag colors may draw more attention, potentially biasing the viewer's perception.Finally, the sources cited are from different years, which could imply a lack of consistency in data reporting. This raises concerns about the accuracy and reliability of the information presen.\n",
    "\n"
   ]
  },
  {
   "cell_type": "code",
   "execution_count": null,
   "id": "0511889d",
   "metadata": {
    "id": "0511889d"
   },
   "outputs": [],
   "source": []
  }
 ],
 "metadata": {
  "colab": {
   "provenance": []
  },
  "kernelspec": {
   "display_name": "Python 3 (ipykernel)",
   "language": "python",
   "name": "python3"
  },
  "language_info": {
   "codemirror_mode": {
    "name": "ipython",
    "version": 3
   },
   "file_extension": ".py",
   "mimetype": "text/x-python",
   "name": "python",
   "nbconvert_exporter": "python",
   "pygments_lexer": "ipython3",
   "version": "3.11.5"
  }
 },
 "nbformat": 4,
 "nbformat_minor": 5
}
